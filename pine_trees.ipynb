{
  "cells": [
    {
      "cell_type": "markdown",
      "metadata": {
        "id": "view-in-github",
        "colab_type": "text"
      },
      "source": [
        "<a href=\"https://colab.research.google.com/github/Yimei0801/hello-world/blob/main/pine_trees.ipynb\" target=\"_parent\"><img src=\"https://colab.research.google.com/assets/colab-badge.svg\" alt=\"Open In Colab\"/></a>"
      ]
    },
    {
      "cell_type": "markdown",
      "metadata": {
        "id": "XaCtn_LSSGZy"
      },
      "source": [
        "First off, you need to open this notebook in Google Colab. So download this notebook and upload it to your Google Drive. Once it's in your Google Drive, you can open it with Google Colab."
      ]
    },
    {
      "cell_type": "markdown",
      "metadata": {
        "id": "3hB1lMUqSGZz"
      },
      "source": [
        "# HW2 : Pine Trees\n",
        "\n",
        "I would like you to channel your inner Bob Ross and write a python program that draws ASCII art pine trees.\n",
        "Your program should prompt the user to input the height of the tree they would like. Then it should draw a tree to the output area beneath your code. The tree should be made of astrix (*) . It should have a trunk visible at the bottom of the tree from the pipe symbol (|).\n",
        "\n",
        "An example run would look like below:"
      ]
    },
    {
      "cell_type": "code",
      "execution_count": 4,
      "metadata": {
        "colab": {
          "base_uri": "https://localhost:8080/",
          "height": 53
        },
        "id": "njL9eAR9SGZ0",
        "outputId": "11c41a62-3579-473e-fc32-321f057d7586"
      },
      "outputs": [
        {
          "output_type": "execute_result",
          "data": {
            "text/plain": [
              "'\\nHow tall should the tree be? 10\\n          *          \\n         ***         \\n        *****        \\n       *******       \\n      *********      \\n     ***********     \\n    *************    \\n   ***************   \\n  *****************  \\n ******************* \\n          |         \\n'"
            ],
            "application/vnd.google.colaboratory.intrinsic+json": {
              "type": "string"
            }
          },
          "metadata": {},
          "execution_count": 4
        }
      ],
      "source": [
        "'''\n",
        "How tall should the tree be? 10\n",
        "          *\n",
        "         ***\n",
        "        *****\n",
        "       *******\n",
        "      *********\n",
        "     ***********\n",
        "    *************\n",
        "   ***************\n",
        "  *****************\n",
        " *******************\n",
        "          |\n",
        "'''"
      ]
    },
    {
      "cell_type": "markdown",
      "metadata": {
        "id": "hpMi_A8iSGZ1"
      },
      "source": [
        "Here's another example with a shorter tree:"
      ]
    },
    {
      "cell_type": "code",
      "execution_count": 5,
      "metadata": {
        "colab": {
          "base_uri": "https://localhost:8080/",
          "height": 35
        },
        "id": "7hwKJ9V4SGZ1",
        "outputId": "bf68323d-f794-4e3f-fbd2-89106e573876"
      },
      "outputs": [
        {
          "output_type": "execute_result",
          "data": {
            "text/plain": [
              "'\\nHow tall should the tree be? 4\\n    *    \\n   ***   \\n  *****  \\n ******* \\n    |    \\n'"
            ],
            "application/vnd.google.colaboratory.intrinsic+json": {
              "type": "string"
            }
          },
          "metadata": {},
          "execution_count": 5
        }
      ],
      "source": [
        "'''\n",
        "How tall should the tree be? 4\n",
        "    *\n",
        "   ***\n",
        "  *****\n",
        " *******\n",
        "    |\n",
        "'''"
      ]
    },
    {
      "cell_type": "markdown",
      "metadata": {
        "id": "gjcTHBLsSGZ1"
      },
      "source": [
        "### Here are some hints:\n",
        "\n",
        "* You will use the print function.\n",
        "  * I want you to use the print function to print only a single character at a time.\n",
        "  * For example, you should use `print(\"*\", end=\"\")` or `print(\" \", end=\"\")`.\n",
        "  \n",
        "  \n",
        "* In order to get this program to work, you will need to use for loops.\n",
        "  * You will write more than one for loop.\n",
        "\n",
        "* You will prompt the user to specify a length by asking \"How tall should the tree be?\"\n",
        "  * The user shoud be able to enter their answer on the same line as the question.\n",
        "  * After entering their answer, the tree should be drawn to the output area."
      ]
    },
    {
      "cell_type": "code",
      "source": [
        "#Function definition\n",
        "def draw_tree(height):\n",
        "    for i in range(height):\n",
        "        # Print spaces to center the stars\n",
        "        print(' ' * (height - i - 1) + '*' * (2 * i + 1))\n",
        "    # Print the trunk\n",
        "    print(' ' *\n",
        "          (height - 1) + '|')\n",
        "\n",
        "#main logic of the code\n",
        "def main():\n",
        "    try:\n",
        "        height = int(input(\"How tall should the tree be? \"))\n",
        "        if height <= 0:\n",
        "            print(\"Please enter a positive integer.\")\n",
        "        else:\n",
        "            draw_tree(height)\n",
        "    except ValueError:\n",
        "        print(\"Invalid input. Please enter a positive integer.\")\n",
        "\n",
        "#Entry point check\n",
        "if __name__ == \"__main__\":\n",
        "    main()\n"
      ],
      "metadata": {
        "colab": {
          "base_uri": "https://localhost:8080/"
        },
        "id": "QPVZpGITVyFX",
        "outputId": "2a3bb08a-7639-486a-a7d7-ffd02432f987"
      },
      "execution_count": 15,
      "outputs": [
        {
          "output_type": "stream",
          "name": "stdout",
          "text": [
            "How tall should the tree be? 10\n",
            "         *\n",
            "        ***\n",
            "       *****\n",
            "      *******\n",
            "     *********\n",
            "    ***********\n",
            "   *************\n",
            "  ***************\n",
            " *****************\n",
            "*******************\n",
            "         |\n"
          ]
        }
      ]
    }
  ],
  "metadata": {
    "kernelspec": {
      "display_name": "Python 3",
      "language": "python",
      "name": "python3"
    },
    "language_info": {
      "codemirror_mode": {
        "name": "ipython",
        "version": 3
      },
      "file_extension": ".py",
      "mimetype": "text/x-python",
      "name": "python",
      "nbconvert_exporter": "python",
      "pygments_lexer": "ipython3",
      "version": "3.10.6"
    },
    "orig_nbformat": 4,
    "colab": {
      "provenance": [],
      "include_colab_link": true
    }
  },
  "nbformat": 4,
  "nbformat_minor": 0
}